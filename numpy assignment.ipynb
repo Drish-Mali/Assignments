{
 "cells": [
  {
   "cell_type": "code",
   "execution_count": 3,
   "metadata": {},
   "outputs": [
    {
     "name": "stdout",
     "output_type": "stream",
     "text": [
      "[[1. 1. 1.]\n",
      " [1. 2. 4.]\n",
      " [1. 3. 9.]]\n"
     ]
    }
   ],
   "source": [
    "import numpy as np\n",
    "def van(l1):\n",
    "    mat=np.ones((len(l1),len(l1)))\n",
    "    for i in range(len(l1)):\n",
    "        for j in range(len(l1)):\n",
    "            mat[i][j]=mat[i][j]*(l1[i]**j)\n",
    "    return mat\n",
    "lst=[1,2,3]\n",
    "print(van(lst))"
   ]
  },
  {
   "cell_type": "code",
   "execution_count": 10,
   "metadata": {},
   "outputs": [
    {
     "name": "stdout",
     "output_type": "stream",
     "text": [
      "10\n",
      "[30.0, 40.0, 50.0, 60.0, 70.0, 80.0, 85.0]\n"
     ]
    }
   ],
   "source": [
    "def mov_avg(a,k):\n",
    "    l=[]\n",
    "    count=k\n",
    "    for i in range(0,(len(a)-k+1)):\n",
    "        l.append(np.average(a[i:i+k+1]))\n",
    "    return l\n",
    "arr=np.array([3, 5, 7, 2, 8, 10, 11, 65, 72, 81, 99, 100, 150])\n",
    "#arr=np.array([10,20,30,40,50,60,70,80,90,100])\n",
    "print(len(arr))\n",
    "window=3\n",
    "print(mov_avg(arr,window))"
   ]
  },
  {
   "cell_type": "code",
   "execution_count": null,
   "metadata": {},
   "outputs": [],
   "source": []
  }
 ],
 "metadata": {
  "kernelspec": {
   "display_name": "Python 3",
   "language": "python",
   "name": "python3"
  },
  "language_info": {
   "codemirror_mode": {
    "name": "ipython",
    "version": 3
   },
   "file_extension": ".py",
   "mimetype": "text/x-python",
   "name": "python",
   "nbconvert_exporter": "python",
   "pygments_lexer": "ipython3",
   "version": "3.6.4"
  }
 },
 "nbformat": 4,
 "nbformat_minor": 2
}
