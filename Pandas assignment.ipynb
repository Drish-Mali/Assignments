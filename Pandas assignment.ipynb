{
 "cells": [
  {
   "cell_type": "code",
   "execution_count": 87,
   "metadata": {},
   "outputs": [],
   "source": [
    "import pandas as pd\n",
    "import numpy as np\n",
    "df = pd.DataFrame({'From_To': ['LoNDon_paris', 'MAdrid_miLAN',\n",
    "'londON_StockhOlm',\n",
    "'Budapest_PaRis', 'Brussels_londOn'],\n",
    "'FlightNumber': [10045, np.nan, 10065, np.nan, 10085],\n",
    "'RecentDelays': [[23, 47], [], [24, 43, 87], [13], [67, 32]],\n",
    "'Airline': ['KLM(!)', '<Air France> (12)', '(British Airways. )',\n",
    "'12. Air France', '\"Swiss Air\"']})"
   ]
  },
  {
   "cell_type": "code",
   "execution_count": 3,
   "metadata": {},
   "outputs": [
    {
     "name": "stdout",
     "output_type": "stream",
     "text": [
      "               Airline  FlightNumber           From_To  RecentDelays\n",
      "0               KLM(!)       10045.0      LoNDon_paris      [23, 47]\n",
      "1    <Air France> (12)           NaN      MAdrid_miLAN            []\n",
      "2  (British Airways. )       10065.0  londON_StockhOlm  [24, 43, 87]\n",
      "3       12. Air France           NaN    Budapest_PaRis          [13]\n",
      "4          \"Swiss Air\"       10085.0   Brussels_londOn      [67, 32]\n"
     ]
    }
   ],
   "source": [
    "print(df.head())"
   ]
  },
  {
   "cell_type": "code",
   "execution_count": 88,
   "metadata": {},
   "outputs": [],
   "source": [
    "l=df[df['FlightNumber'].isnull()].index.tolist()\n",
    "df.FlightNumber.fillna(method=\"ffill\",inplace=True,downcast='int64')\n",
    "for i in l:\n",
    "    df.FlightNumber[i]=df.FlightNumber[i]+10\n"
   ]
  },
  {
   "cell_type": "code",
   "execution_count": 89,
   "metadata": {},
   "outputs": [
    {
     "name": "stdout",
     "output_type": "stream",
     "text": [
      "               Airline  FlightNumber           From_To  RecentDelays\n",
      "0               KLM(!)         10045      LoNDon_paris      [23, 47]\n",
      "1    <Air France> (12)         10055      MAdrid_miLAN            []\n",
      "2  (British Airways. )         10065  londON_StockhOlm  [24, 43, 87]\n",
      "3       12. Air France         10075    Budapest_PaRis          [13]\n",
      "4          \"Swiss Air\"         10085   Brussels_londOn      [67, 32]\n"
     ]
    }
   ],
   "source": [
    "print(df)"
   ]
  },
  {
   "cell_type": "code",
   "execution_count": 90,
   "metadata": {},
   "outputs": [],
   "source": [
    "df[['From','To']] = df.From_To.str.split(pat='_',expand=True) \n"
   ]
  },
  {
   "cell_type": "code",
   "execution_count": 91,
   "metadata": {},
   "outputs": [
    {
     "name": "stdout",
     "output_type": "stream",
     "text": [
      "               Airline  FlightNumber  RecentDelays      From         To\n",
      "0               KLM(!)         10045      [23, 47]    London      Paris\n",
      "1    <Air France> (12)         10055            []    Madrid      Milan\n",
      "2  (British Airways. )         10065  [24, 43, 87]    London  Stockholm\n",
      "3       12. Air France         10075          [13]  Budapest      Paris\n",
      "4          \"Swiss Air\"         10085      [67, 32]  Brussels     London\n"
     ]
    }
   ],
   "source": [
    "df.From=df.From.str.capitalize()\n",
    "df.To=df.To.str.capitalize()\n",
    "df.drop(['From_To'],axis=1,inplace=True)\n",
    "print(df)"
   ]
  },
  {
   "cell_type": "code",
   "execution_count": 92,
   "metadata": {},
   "outputs": [
    {
     "name": "stdout",
     "output_type": "stream",
     "text": [
      "               Airline  FlightNumber      From         To delay_1 delay_2  \\\n",
      "0               KLM(!)         10045    London      Paris      23      47   \n",
      "1    <Air France> (12)         10055    Madrid      Milan            None   \n",
      "2  (British Airways. )         10065    London  Stockholm      24      43   \n",
      "3       12. Air France         10075  Budapest      Paris      13    None   \n",
      "4          \"Swiss Air\"         10085  Brussels     London      67      32   \n",
      "\n",
      "  delay_3  \n",
      "0    None  \n",
      "1    None  \n",
      "2      87  \n",
      "3    None  \n",
      "4    None  \n"
     ]
    }
   ],
   "source": [
    "\n",
    "df.RecentDelays=df.RecentDelays.astype(str).str.replace('[','')\n",
    "df.RecentDelays=df.RecentDelays.astype(str).str.replace(']','')\n",
    "df[['delay_1','delay_2','delay_3']] = df.RecentDelays.str.split(pat=',',expand=True) \n",
    "df.drop(['RecentDelays'],axis=1,inplace=True)\n",
    "print(df)"
   ]
  },
  {
   "cell_type": "code",
   "execution_count": null,
   "metadata": {},
   "outputs": [],
   "source": []
  }
 ],
 "metadata": {
  "kernelspec": {
   "display_name": "Python 3",
   "language": "python",
   "name": "python3"
  },
  "language_info": {
   "codemirror_mode": {
    "name": "ipython",
    "version": 3
   },
   "file_extension": ".py",
   "mimetype": "text/x-python",
   "name": "python",
   "nbconvert_exporter": "python",
   "pygments_lexer": "ipython3",
   "version": "3.6.4"
  }
 },
 "nbformat": 4,
 "nbformat_minor": 2
}
